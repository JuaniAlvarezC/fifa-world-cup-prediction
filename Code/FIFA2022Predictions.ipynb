{
 "cells": [
  {
   "cell_type": "markdown",
   "metadata": {},
   "source": [
    "\n",
    "# Trabajo Práctico Final\n",
    "## Laboratorio de Datos\n",
    "Martin Amster, Juan Alvarez Colombo y Nicolas Ledesma Cueli. \n",
    "\n",
    "2 de Diciembre de 2022"
   ]
  },
  {
   "cell_type": "markdown",
   "metadata": {},
   "source": [
    "## Introducción\n",
    "\n",
    "En este trabajo practico vamos a utilizar datasets sobre todos los partidos internacionales de selecciones de futbol masculino desde 1993 hasta el día de hoy y sus respectivos rankings FIFA\n",
    "\n",
    "Vamos a cargar las librerias y los datasets"
   ]
  },
  {
   "cell_type": "code",
   "execution_count": 1,
   "metadata": {},
   "outputs": [],
   "source": [
    "import numpy as np\n",
    "import pandas as pd\n",
    "import seaborn as sns\n",
    "import matplotlib.pyplot as plt \n",
    "from sklearn.linear_model import LinearRegression\n",
    "import plotly as px\n",
    "px.io.renderers.default = \"notebook_connected\"\n",
    "\n",
    "resultados = pd.read_csv(\"results.csv\")"
   ]
  },
  {
   "cell_type": "code",
   "execution_count": 2,
   "metadata": {},
   "outputs": [],
   "source": [
    "resultados['date'] = pd.to_datetime(resultados['date'], format='%Y-%m-%d')\n",
    "\n",
    "resultados = resultados[resultados['date'].dt.year >= 1993]"
   ]
  },
  {
   "cell_type": "markdown",
   "metadata": {},
   "source": [
    "Filtramos solo los resultados posteriores a 1993 en los que están involucrados los 140 países que tienen más partidos jugados"
   ]
  },
  {
   "cell_type": "code",
   "execution_count": 3,
   "metadata": {},
   "outputs": [
    {
     "name": "stdout",
     "output_type": "stream",
     "text": [
      "            date     home_team    away_team  home_score  away_score  \\\n",
      "17705 1993-01-10        Angola     Zimbabwe         1.0         1.0   \n",
      "17707 1993-01-10      DR Congo     Cameroon         1.0         2.0   \n",
      "17708 1993-01-10       Senegal      Algeria         1.0         2.0   \n",
      "17711 1993-01-16  South Africa      Nigeria         0.0         0.0   \n",
      "17712 1993-01-16      Tanzania       Zambia         1.0         3.0   \n",
      "17714 1993-01-17      Botswana  Ivory Coast         0.0         0.0   \n",
      "17715 1993-01-17       Burundi      Algeria         0.0         0.0   \n",
      "17716 1993-01-17      Ethiopia      Morocco         0.0         1.0   \n",
      "17717 1993-01-17    Mozambique        Gabon         1.0         1.0   \n",
      "17718 1993-01-17       Namibia   Madagascar         0.0         1.0   \n",
      "\n",
      "                                 tournament          city       country  \\\n",
      "17705          FIFA World Cup qualification        Luanda        Angola   \n",
      "17707          FIFA World Cup qualification      Kinshasa         Zaïre   \n",
      "17708  African Cup of Nations qualification         Dakar       Senegal   \n",
      "17711          FIFA World Cup qualification  Johannesburg  South Africa   \n",
      "17712          FIFA World Cup qualification        Mwanza      Tanzania   \n",
      "17714          FIFA World Cup qualification      Gaborone      Botswana   \n",
      "17715          FIFA World Cup qualification     Bujumbura       Burundi   \n",
      "17716          FIFA World Cup qualification   Addis Ababa      Ethiopia   \n",
      "17717          FIFA World Cup qualification        Maputo    Mozambique   \n",
      "17718          FIFA World Cup qualification      Windhoek       Namibia   \n",
      "\n",
      "       neutral  \n",
      "17705    False  \n",
      "17707    False  \n",
      "17708    False  \n",
      "17711    False  \n",
      "17712    False  \n",
      "17714    False  \n",
      "17715    False  \n",
      "17716    False  \n",
      "17717    False  \n",
      "17718    False  \n"
     ]
    }
   ],
   "source": [
    "paises_participan = [\"Qatar\", \"Ecuador\", \"Senegal\", \"Netherlands\", \"England\", \"Iran\", \"United States\", \"Wales\", \"Argentina\", \n",
    "                     \"Saudi Arabia\", \"Mexico\", \"Poland\", \"France\", \"Australia\", \"Denmark\", \"Tunisia\", \"Spain\", \"Costa Rica\", \n",
    "                     \"Germany\", \"Japan\", \"Belgium\", \"Canada\", \"Morocco\", \"Croatia\", \"Brazil\", \"Serbia\", \"Switzerland\", \n",
    "                     \"Cameroon\", \"Portugal\", \"Ghana\", \"Uruguay\", \"South Korea\"]\n",
    "\n",
    "resultados = resultados[resultados['tournament'] != \"Friendly\"]\n",
    "\n",
    "paises = resultados['home_team'].value_counts().reset_index()\n",
    "paises.columns = ['country', 'count']\n",
    "\n",
    "paises = paises.sort_values(by='count', ascending=False).head(140)\n",
    "\n",
    "resultados = resultados[resultados['home_team'].isin(paises['country']) & resultados['away_team'].isin(paises['country'])]\n",
    "\n",
    "print(resultados.head(10))"
   ]
  },
  {
   "cell_type": "markdown",
   "metadata": {},
   "source": [
    "Luego sumamos el dataframe con rankings desde 1993 y le agregamos el ranking como otra columna en resultados"
   ]
  },
  {
   "cell_type": "code",
   "execution_count": 4,
   "metadata": {},
   "outputs": [
    {
     "name": "stdout",
     "output_type": "stream",
     "text": [
      "   rank                    country_full country_abrv  total_points  \\\n",
      "0     1                         Germany          GER          57.0   \n",
      "1    96                           Syria          SYR          11.0   \n",
      "2    97                    Burkina Faso          BFA          11.0   \n",
      "3    99                          Latvia          LVA          10.0   \n",
      "4   100                         Burundi          BDI          10.0   \n",
      "5   101                            Togo          TOG          10.0   \n",
      "6   102                          Angola          ANG          10.0   \n",
      "7    95                        Suriname          SUR          12.0   \n",
      "8   103                      Luxembourg          LUX          10.0   \n",
      "9   105  St. Vincent and the Grenadines          VIN           9.0   \n",
      "\n",
      "   previous_points  rank_change confederation  rank_date  \n",
      "0              0.0            0          UEFA 1992-12-31  \n",
      "1              0.0            0           AFC 1992-12-31  \n",
      "2              0.0            0           CAF 1992-12-31  \n",
      "3              0.0            0          UEFA 1992-12-31  \n",
      "4              0.0            0           CAF 1992-12-31  \n",
      "5              0.0            0           CAF 1992-12-31  \n",
      "6              0.0            0           CAF 1992-12-31  \n",
      "7              0.0            0      CONCACAF 1992-12-31  \n",
      "8              0.0            0          UEFA 1992-12-31  \n",
      "9              0.0            0      CONCACAF 1992-12-31  \n"
     ]
    }
   ],
   "source": [
    "ranking = pd.read_csv(\"ranking_fifa.csv\")\n",
    "\n",
    "ranking = ranking.replace({\"USA\": \"United States\", \"Korea Republic\": \"South Korea\", \"IR Iran\": \"Iran\"}, regex=True)\n",
    "\n",
    "ranking['rank_date'] = pd.to_datetime(ranking['rank_date'], format='%Y-%m-%d')\n",
    "\n",
    "ranking['rank'] = ranking['rank'].astype(int)\n",
    "\n",
    "print(ranking.head(10))"
   ]
  },
  {
   "cell_type": "markdown",
   "metadata": {},
   "source": [
    "Para ponerlo como columna el ranking, tomamos el primer ranking del año en el que se jugó el partido"
   ]
  },
  {
   "cell_type": "code",
   "execution_count": 5,
   "metadata": {},
   "outputs": [],
   "source": [
    "resultados['anio'] = resultados['date'].dt.year.astype(int)\n",
    "\n",
    "ranking['anio'] = ranking['rank_date'].dt.year.astype(int)\n",
    "\n",
    "resultados['rank_home'] = None\n",
    "for i, row in resultados.iterrows():\n",
    "    home_team = row['home_team']\n",
    "    anio = row['anio']\n",
    "    mask = (ranking['country_full'] == home_team) & (ranking['anio'] == anio)\n",
    "    rank = ranking.loc[mask, 'rank'].values\n",
    "    if len(rank) > 0:\n",
    "        resultados.at[i, 'rank_home'] = rank[0]\n",
    "\n",
    "resultados['rank_away'] = None\n",
    "for i, row in resultados.iterrows():\n",
    "    away_team = row['away_team']\n",
    "    anio = row['anio']\n",
    "    mask = (ranking['country_full'] == away_team) & (ranking['anio'] == anio)\n",
    "    rank = ranking.loc[mask, 'rank'].values\n",
    "    if len(rank) > 0:\n",
    "        resultados.at[i, 'rank_away'] = rank[0]"
   ]
  },
  {
   "cell_type": "markdown",
   "metadata": {},
   "source": [
    "## Analisis exploratorio de los datos\n",
    "## 1.\n",
    "\n",
    "Primero vamos a ver cuáles son los resultados más repetidos"
   ]
  },
  {
   "cell_type": "code",
   "execution_count": 6,
   "metadata": {},
   "outputs": [
    {
     "data": {
      "image/png": "[encoded data removed]",
      "text/plain": [
       "<Figure size 576x432 with 2 Axes>"
      ]
     },
     "metadata": {
      "needs_background": "light"
     },
     "output_type": "display_data"
    }
   ],
   "source": [
    "densidad_resultados = np.zeros((36, 3))\n",
    "colnames = [\"Goles_local\", \"Goles_visitante\", \"Cant_apariciones\"]\n",
    "\n",
    "x = np.repeat(np.arange(6), 6)\n",
    "y = np.tile(np.arange(6), 6)\n",
    "\n",
    "densidad_resultados = pd.DataFrame(densidad_resultados, columns=colnames)\n",
    "densidad_resultados[\"Goles_local\"] = x\n",
    "densidad_resultados[\"Goles_visitante\"] = y\n",
    "\n",
    "for i in range(36):\n",
    "    densidad_resultados.at[i, \"Cant_apariciones\"] = len(resultados[(densidad_resultados[\"Goles_local\"].iloc[i] == resultados[\"home_score\"]) & (densidad_resultados[\"Goles_visitante\"].iloc[i] == resultados[\"away_score\"])])\n",
    "\n",
    "plt.figure(figsize=(8, 6))\n",
    "heatmap = sns.heatmap(densidad_resultados.pivot(\"Goles_visitante\", \"Goles_local\", \"Cant_apariciones\"), annot=True, fmt=\".0f\", cmap=\"YlGnBu\")\n",
    "heatmap.set_xlabel(\"Goles local\")\n",
    "heatmap.set_ylabel(\"Goles visitante\")\n",
    "plt.title(\"Cantidad de partidos\")\n",
    "plt.show()\n"
   ]
  },
  {
   "cell_type": "markdown",
   "metadata": {},
   "source": [
    "Los resultados más comunes son 1-0 y 1-1 y a medida que hay una mayor cantidad de goles hay menos partidos con esos resultados. Estos resultados son los esperados.\n",
    "\n",
    "Agregamos una columna con la diferencia entre goles del local y del visitante y añadimos una columna que dice quien ganó o si hubo empate"
   ]
  },
  {
   "cell_type": "code",
   "execution_count": 7,
   "metadata": {},
   "outputs": [],
   "source": [
    "resultados['dif_goles'] = resultados['home_score'] - resultados['away_score']\n",
    "\n",
    "resultados['ganador'] = None\n",
    "\n",
    "resultados.loc[resultados['dif_goles'] > 0, 'ganador'] = resultados.loc[resultados['dif_goles'] > 0, 'home_team']\n",
    "resultados.loc[resultados['dif_goles'] == 0, 'ganador'] = \"Empate\"\n",
    "resultados.loc[resultados['dif_goles'] < 0, 'ganador'] = resultados.loc[resultados['dif_goles'] < 0, 'away_team']"
   ]
  },
  {
   "cell_type": "markdown",
   "metadata": {},
   "source": [
    "Con esta nueva columna vamos a ver cuáles son los 10 equipos que más partidos oficiales ganaron"
   ]
  },
  {
   "cell_type": "code",
   "execution_count": 8,
   "metadata": {},
   "outputs": [
    {
     "name": "stdout",
     "output_type": "stream",
     "text": [
      "Brazil           164\n",
      "Mexico           162\n",
      "Spain            159\n",
      "Germany          153\n",
      "Japan            142\n",
      "Italy            139\n",
      "United States    139\n",
      "Netherlands      137\n",
      "Portugal         136\n",
      "France           131\n",
      "Name: ganador, dtype: int64\n"
     ]
    }
   ],
   "source": [
    "ganador_frecuencia = resultados.loc[resultados['tournament'] != \"Friendly\", 'ganador'].value_counts()\n",
    "\n",
    "top_ganadores = ganador_frecuencia.sort_values(ascending=False).iloc[1:11]\n",
    "\n",
    "print(top_ganadores)"
   ]
  },
  {
   "cell_type": "markdown",
   "metadata": {},
   "source": [
    "## 2.\n",
    "\n",
    "Ahora vemos que tal le fue a cada selección campeona (desde 1993) previo al mundial que ganó"
   ]
  },
  {
   "cell_type": "code",
   "execution_count": 9,
   "metadata": {},
   "outputs": [
    {
     "name": "stdout",
     "output_type": "stream",
     "text": [
      "             Victorias  Empates  Derrotas\n",
      "Francia1998        6.0      7.0       1.0\n",
      "Brasil            22.0      5.0      11.0\n",
      "Italia            12.0      5.0       1.0\n",
      "Espana            26.0      2.0       1.0\n",
      "Alemania          19.0      1.0       1.0\n",
      "Francia2018       12.0      3.0       2.0\n"
     ]
    }
   ],
   "source": [
    "campeones = np.zeros((6, 3))\n",
    "campeones_names = [\"France\", \"Brazil\", \"Italy\", \"Spain\", \"Germany\", \"France\"] \n",
    "\n",
    "campeones_index = [\"Francia1998\", \"Brasil\", \"Italia\", \"Espana\", \"Alemania\", \"Francia2018\"]\n",
    "colnames = [\"Victorias\", \"Empates\", \"Derrotas\"]\n",
    "\n",
    "anio_inicial = 1994\n",
    "for i in range(6):\n",
    "    victorias = 0\n",
    "    empates = 0\n",
    "    derrotas = 0\n",
    "    for j in range(anio_inicial + 1, anio_inicial + 4):\n",
    "        victorias += len(resultados[(resultados['ganador'] == campeones_names[i]) & (resultados['anio'] == j)])\n",
    "        empates += len(resultados[(resultados['ganador'] == \"Empate\") & (resultados['anio'] == j) & ((resultados['home_team'] == campeones_names[i]) | (resultados['away_team'] == campeones_names[i]))])\n",
    "        derrotas += len(resultados[(resultados['ganador'] != campeones_names[i]) & (resultados['ganador'] != \"Empate\") & (resultados['anio'] == j) & ((resultados['home_team'] == campeones_names[i]) | (resultados['away_team'] == campeones_names[i]))])\n",
    "    campeones[i, 0] = victorias\n",
    "    campeones[i, 1] = empates\n",
    "    campeones[i, 2] = derrotas\n",
    "    anio_inicial += 4\n",
    "\n",
    "campeones_index = [\"Francia1998\", \"Brasil\", \"Italia\", \"Espana\", \"Alemania\", \"Francia2018\"]\n",
    "\n",
    "campeones_df = pd.DataFrame(campeones, index=campeones_index, columns=colnames)\n",
    "\n",
    "print(campeones_df)"
   ]
  },
  {
   "cell_type": "code",
   "execution_count": 10,
   "metadata": {},
   "outputs": [
    {
     "data": {
      "image/png": "[encoded data removed]",
      "text/plain": [
       "<Figure size 720x432 with 1 Axes>"
      ]
     },
     "metadata": {
      "needs_background": "light"
     },
     "output_type": "display_data"
    }
   ],
   "source": [
    "colors = {'Victorias': '#1f77b4', 'Empates': '#ff7f0e', 'Derrotas': '#2ca02c'}\n",
    "\n",
    "fig, ax = plt.subplots(figsize=(10, 6)) \n",
    "width = 0.02  \n",
    "countries = campeones_df.index\n",
    "\n",
    "for i, category in enumerate(campeones_df.columns):\n",
    "    x = np.arange(len(countries)) + i * (len(countries) + 1) * width  \n",
    "    ax.bar(x, campeones_df[category], width=width, color=colors[category], label=category)\n",
    "\n",
    "ax.set_xticks(np.arange(len(countries)) + 1.5 * width)\n",
    "ax.set_xticklabels(countries, rotation=45, ha='right') \n",
    "ax.set_ylabel(\"Partidos\")\n",
    "ax.set_xlabel(\"Países\")\n",
    "ax.set_title(\"Partidos 3 años antes de su mundial\")\n",
    "ax.legend()\n",
    "\n",
    "plt.show()"
   ]
  },
  {
   "cell_type": "markdown",
   "metadata": {},
   "source": [
    "Y ahora veremos cómo les fue a las selecciones candidatas de Qatar 2022 en los últimos 3 años"
   ]
  },
  {
   "cell_type": "code",
   "execution_count": 11,
   "metadata": {},
   "outputs": [
    {
     "name": "stdout",
     "output_type": "stream",
     "text": [
      "            Victorias  Empates  Derrotas\n",
      "Francia          21.0      8.0       1.0\n",
      "Brasil           20.0      5.0       2.0\n",
      "Argentina        17.0      8.0       2.0\n",
      "Inglaterra       19.0      6.0       4.0\n",
      "Belgica          25.0      2.0       4.0\n",
      "España           18.0      9.0       3.0\n"
     ]
    }
   ],
   "source": [
    "candidatos = np.zeros((6, 3))\n",
    "candidatos_names = [\"France\", \"Brazil\", \"Argentina\", \"England\", \"Belgium\", \"Spain\"]\n",
    "\n",
    "candidatos_index = [\"Francia\", \"Brasil\", \"Argentina\", \"Inglaterra\", \"Belgica\", \"España\"]\n",
    "colnames = [\"Victorias\", \"Empates\", \"Derrotas\"]\n",
    "\n",
    "anio_inicial = 2018\n",
    "\n",
    "for i in range(6):\n",
    "    victorias = 0\n",
    "    empates = 0\n",
    "    derrotas = 0\n",
    "    for j in range(anio_inicial + 1, anio_inicial + 4):\n",
    "        victorias += len(resultados[(resultados['ganador'] == candidatos_names[i]) & (resultados['anio'] == j)])\n",
    "        empates += len(resultados[(resultados['ganador'] == \"Empate\") & (resultados['anio'] == j) & ((resultados['home_team'] == candidatos_names[i]) | (resultados['away_team'] == candidatos_names[i]))])\n",
    "        derrotas += len(resultados[(resultados['ganador'] != candidatos_names[i]) & (resultados['ganador'] != 'Empate') & (resultados['anio'] == j) & ((resultados['home_team'] == candidatos_names[i]) | (resultados['away_team'] == candidatos_names[i]))])\n",
    "    candidatos[i, 0] = victorias\n",
    "    candidatos[i, 1] = empates\n",
    "    candidatos[i, 2] = derrotas\n",
    "\n",
    "candidatos_index = [\"Francia\", \"Brasil\", \"Argentina\", \"Inglaterra\", \"Belgica\", \"España\"]\n",
    "\n",
    "candidatos_df = pd.DataFrame(candidatos, index=candidatos_index, columns=colnames)\n",
    "\n",
    "print(candidatos_df)\n"
   ]
  },
  {
   "cell_type": "code",
   "execution_count": 12,
   "metadata": {},
   "outputs": [
    {
     "data": {
      "image/png": "[encoded data removed]",
      "text/plain": [
       "<Figure size 720x432 with 1 Axes>"
      ]
     },
     "metadata": {
      "needs_background": "light"
     },
     "output_type": "display_data"
    }
   ],
   "source": [
    "colors = {'Victorias': '#1f77b4', 'Empates': '#ff7f0e', 'Derrotas': '#2ca02c'}\n",
    "\n",
    "fig, ax = plt.subplots(figsize=(10, 6)) \n",
    "width = 0.02  \n",
    "countries = candidatos_df.index\n",
    "\n",
    "for i, category in enumerate(candidatos_df.columns):\n",
    "    x = np.arange(len(countries)) + i * (len(countries) + 1) * width \n",
    "    ax.bar(x, candidatos_df[category], width=width, color=colors[category], label=category)\n",
    "\n",
    "ax.set_xticks(np.arange(len(countries)) + 1.5 * width)\n",
    "ax.set_xticklabels(countries, rotation=45, ha='right') \n",
    "ax.set_ylabel(\"Partidos\")\n",
    "ax.set_xlabel(\"Países\")\n",
    "ax.set_title(\"Partidos 3 años antes de su mundial\")\n",
    "ax.legend()\n",
    "\n",
    "plt.show()"
   ]
  },
  {
   "cell_type": "markdown",
   "metadata": {},
   "source": [
    "Para comparar estos dos gráficos podemos tomar cantidad de puntos por partido de estos equipos durante esos años (3 por victoria, 1 por empate)"
   ]
  },
  {
   "cell_type": "code",
   "execution_count": 13,
   "metadata": {},
   "outputs": [
    {
     "data": {
      "image/png": "[encoded data removed]",
      "text/plain": [
       "<Figure size 720x432 with 1 Axes>"
      ]
     },
     "metadata": {
      "needs_background": "light"
     },
     "output_type": "display_data"
    }
   ],
   "source": [
    "campeones_df['puntos_promedio'] = round((3 * campeones_df['Victorias'] + campeones_df['Empates']) / \n",
    "                                      (campeones_df['Victorias'] + campeones_df['Empates'] + campeones_df['Derrotas']), 2)\n",
    "candidatos_df['puntos_promedio'] = round((3 * candidatos_df['Victorias'] + candidatos_df['Empates']) / \n",
    "                                       (candidatos_df['Victorias'] + candidatos_df['Empates'] + candidatos_df['Derrotas']), 2)\n",
    "\n",
    "campeones_df.index = [\"1998 Francia\", \"2002 Brasil\", \"2006 Italia\", \"2010 España\", \"2014 Alemania\", \"2018 Francia\"]\n",
    "candidatos_df.index = [\"2022 Francia\", \"2022 Brasil\", \"2022 Argentina\", \"2022 Inglaterra\", \"2022 Belgica\", \"2022 España\"]\n",
    "\n",
    "campeones_df['paises'] = campeones_df.index\n",
    "candidatos_df['paises'] = candidatos_df.index\n",
    "\n",
    "mergeados = pd.concat([campeones_df, candidatos_df])\n",
    "\n",
    "plt.figure(figsize=(10, 6))\n",
    "scatter = sns.scatterplot(data=mergeados, x='paises', y='puntos_promedio', hue='paises', s=100, legend=False)\n",
    "plt.ylim(0, 3)\n",
    "\n",
    "for index, row in mergeados.iterrows():\n",
    "    scatter.annotate(row['puntos_promedio'], (row['paises'], row['puntos_promedio']), textcoords=\"offset points\", xytext=(0,10), ha='center')\n",
    "\n",
    "plt.xticks(rotation=90)\n",
    "plt.xlabel('Paises')\n",
    "plt.ylabel('Puntos promedio')\n",
    "plt.title('Puntos promedio por país')\n",
    "plt.show()\n"
   ]
  },
  {
   "cell_type": "markdown",
   "metadata": {},
   "source": [
    "Con este gráfico se puede observar que todas las selecciones campeonas tienen promedio de puntos por partido entre 1.79 y 2.76 los tres años anteriores a salir campeón. Todos los candidatos de este año tienen valores en ese rango también. Ninguna selección actual llega al nivel superlativo de España y Alemania antes del mundial 2010 y 2014, respectivamente, ni al piso de Francia antes de 1998."
   ]
  },
  {
   "cell_type": "markdown",
   "metadata": {},
   "source": [
    "## 3.\n",
    "\n",
    "Para ver un poco el dataset de ranking fifa vamos a ver cómo evolucionó el ranking de los candidatos desde 1993, recordando que si el número del ranking es mayor, significa que el país está peor futbolísticamente."
   ]
  },
  {
   "cell_type": "code",
   "execution_count": 14,
   "metadata": {},
   "outputs": [
    {
     "data": {
      "image/png": "[encoded data removed]",
      "text/plain": [
       "<Figure size 432x288 with 1 Axes>"
      ]
     },
     "metadata": {
      "needs_background": "light"
     },
     "output_type": "display_data"
    }
   ],
   "source": [
    "vec_cand = [\"France\", \"Brazil\", \"Argentina\", \"England\", \"Belgium\", \"Spain\"]\n",
    "\n",
    "color_map = {\"France\": \"blue\", \"Brazil\": \"green\", \"Argentina\": \"red\", \n",
    "             \"England\": \"orange\", \"Belgium\": \"purple\", \"Spain\": \"cyan\"}\n",
    "\n",
    "rank_candidatos = ranking[ranking['country_full'].isin(vec_cand)]\n",
    "\n",
    "for country in vec_cand:\n",
    "    country_data = rank_candidatos[rank_candidatos['country_full'] == country]\n",
    "    plt.plot(country_data['rank_date'], country_data['rank'], marker='o', linestyle='-', markersize=4, color=color_map[country], label=country)\n",
    "\n",
    "plt.xlabel('Año')\n",
    "plt.ylabel('Ranking')\n",
    "plt.legend(title='Paises')\n",
    "\n",
    "plt.show()"
   ]
  },
  {
   "cell_type": "markdown",
   "metadata": {},
   "source": [
    "Belgica ganó mucho ranking los últimos años, las otras selecciones siempre fueron potencias del fútbol."
   ]
  },
  {
   "cell_type": "markdown",
   "metadata": {},
   "source": [
    "## 4.\n",
    "\n",
    "Nuestro objetivo ahora es ver que influencia tiene jugar de local comparado con jugar un partido en un pais neutral"
   ]
  },
  {
   "cell_type": "code",
   "execution_count": 15,
   "metadata": {},
   "outputs": [],
   "source": [
    "vic_loc = []\n",
    "der_loc = []\n",
    "emp_loc = []\n",
    "vic_neu = []\n",
    "der_neu = []\n",
    "emp_neu = []\n",
    "\n",
    "for country in paises_participan:\n",
    "    matches_home = resultados[resultados['country'] == country]\n",
    "    matches_won_home = matches_home[matches_home['ganador'] == country]\n",
    "    matches_draw_home = matches_home[(matches_home['ganador'] == \"Empate\") & (matches_home['home_team'] == country)]\n",
    "    matches_lost_home = matches_home[(matches_home['ganador'] != country) & (matches_home['ganador'] != \"Empate\") & (matches_home['home_team'] == country)]\n",
    "    \n",
    "    vic_loc.append(len(matches_won_home) / len(matches_home))\n",
    "    der_loc.append(len(matches_lost_home) / len(matches_home))\n",
    "    emp_loc.append(len(matches_draw_home) / len(matches_home))\n",
    "    \n",
    "    matches_neutral = resultados[(resultados['home_team'] == country) | (resultados['away_team'] == country) & (resultados['neutral'] == True)]\n",
    "    matches_won_neutral = matches_neutral[matches_neutral['ganador'] == country]\n",
    "    matches_draw_neutral = matches_neutral[(matches_neutral['ganador'] == \"Empate\")]\n",
    "    matches_lost_neutral = matches_neutral[(matches_neutral['ganador'] != \"Empate\") & (matches_neutral['ganador'] != country)]\n",
    "    \n",
    "    vic_neu.append(len(matches_won_neutral) / len(matches_neutral))\n",
    "    der_neu.append(len(matches_lost_neutral) / len(matches_neutral))\n",
    "    emp_neu.append(len(matches_draw_neutral) / len(matches_neutral))\n",
    "\n",
    "matriz_local = pd.DataFrame({\"Victorias\": vic_loc, \"Empates\": emp_loc, \"Derrotas\": der_loc}, index=paises_participan)\n",
    "matriz_neutral = pd.DataFrame({\"Victorias\": vic_neu, \"Empates\": emp_neu, \"Derrotas\": der_neu}, index=paises_participan)"
   ]
  },
  {
   "cell_type": "markdown",
   "metadata": {},
   "source": [
    "Hacemos el ternary plot para ver como es la distribución tanto en partidos de local como neutrales"
   ]
  },
  {
   "cell_type": "code",
   "execution_count": 21,
   "metadata": {},
   "outputs": [],
   "source": [
    "from plotly.express import scatter_ternary"
   ]
  },
  {
   "cell_type": "code",
   "execution_count": 22,
   "metadata": {},
   "outputs": [
    {
     "data": {
      "text/html": [
       "        <script type=\"text/javascript\">\n",
       "        window.PlotlyConfig = {MathJaxConfig: 'local'};\n",
       "        if (window.MathJax) {MathJax.Hub.Config({SVG: {font: \"STIX-Web\"}});}\n",
       "        if (typeof require !== 'undefined') {\n",
       "        require.undef(\"plotly\");\n",
       "        requirejs.config({\n",
       "            paths: {\n",
       "                'plotly': ['https://cdn.plot.ly/plotly-latest.min']\n",
       "            }\n",
       "        });\n",
       "        require(['plotly'], function(Plotly) {\n",
       "            window._Plotly = Plotly;\n",
       "        });\n",
       "        }\n",
       "        </script>\n",
       "        "
      ]
     },
     "metadata": {},
     "output_type": "display_data"
    },
    {
     "data": {
      "text/html": [
       "<div>\n",
       "        \n",
       "        \n",
       "            <div id=\"6662fc30-dc2e-4217-b0dc-eb47e2d196ce\" class=\"plotly-graph-div\" style=\"height:525px; width:100%;\"></div>\n",
       "            <script type=\"text/javascript\">\n",
       "                require([\"plotly\"], function(Plotly) {\n",
       "                    window.PLOTLYENV=window.PLOTLYENV || {};\n",
       "                    \n",
       "                if (document.getElementById(\"6662fc30-dc2e-4217-b0dc-eb47e2d196ce\")) {\n",
       "                    Plotly.newPlot(\n",
       "                        '6662fc30-dc2e-4217-b0dc-eb47e2d196ce',\n",
       "                        [{\"a\": [0.22439024390243903, 0.4835164835164835, 0.7692307692307693, 0.6947368421052632, 0.509090909090909, 0.5555555555555556, 0.25164113785557984, 0.4230769230769231, 0.47368421052631576, 0.4274193548387097, 0.6585365853658537, 0.44086021505376344, 0.29064039408866993, 0.4925373134328358, 0.6309523809523809, 0.3564356435643564, 0.7052631578947368, 0.6056338028169014, 0.36875, 0.36649214659685864, 0.5730337078651685, 0.5384615384615384, 0.4392523364485981, 0.6794871794871795, 0.32044198895027626, 0.5, 0.5232558139534884, 0.46153846153846156, 0.5517241379310345, 0.39215686274509803, 0.46875, 0.3546099290780142], \"b\": [0.08780487804878048, 0.16483516483516483, 0.17307692307692307, 0.10526315789473684, 0.14545454545454545, 0.16161616161616163, 0.03938730853391685, 0.23076923076923078, 0.24210526315789474, 0.08064516129032258, 0.15853658536585366, 0.1935483870967742, 0.08866995073891626, 0.08955223880597014, 0.21428571428571427, 0.10891089108910891, 0.09473684210526316, 0.16901408450704225, 0.1125, 0.15706806282722513, 0.1348314606741573, 0.28205128205128205, 0.11214953271028037, 0.24358974358974358, 0.07734806629834254, 0.2692307692307692, 0.1744186046511628, 0.20512820512820512, 0.13793103448275862, 0.13725490196078433, 0.22916666666666666, 0.14184397163120568], \"c\": [0.09268292682926829, 0.13186813186813187, 0.057692307692307696, 0.06315789473684211, 0.06363636363636363, 0.030303030303030304, 0.04814004376367615, 0.34615384615384615, 0.042105263157894736, 0.08064516129032258, 0.024390243902439025, 0.1827956989247312, 0.04926108374384237, 0.05970149253731343, 0.14285714285714285, 0.04950495049504951, 0.031578947368421054, 0.11267605633802817, 0.05, 0.11518324607329843, 0.15730337078651685, 0.15384615384615385, 0.056074766355140186, 0.07692307692307693, 0.016574585635359115, 0.15384615384615385, 0.13953488372093023, 0.038461538461538464, 0.07758620689655173, 0.058823529411764705, 0.09375, 0.0851063829787234], \"hovertemplate\": \"Victorias=%{a}<br>Empates=%{b}<br>Derrotas=%{c}<extra></extra>\", \"legendgroup\": \"\", \"marker\": {\"color\": \"#636efa\", \"symbol\": \"circle\"}, \"mode\": \"markers\", \"name\": \"\", \"showlegend\": false, \"subplot\": \"ternary\", \"type\": \"scatterternary\"}],\n",
       "                        {\"annotations\": [{\"font\": {\"size\": 40}, \"text\": \"De local\", \"x\": 0.7, \"y\": 0.8}], \"legend\": {\"tracegroupgap\": 0}, \"margin\": {\"t\": 60}, \"template\": {\"data\": {\"bar\": [{\"error_x\": {\"color\": \"#2a3f5f\"}, \"error_y\": {\"color\": \"#2a3f5f\"}, \"marker\": {\"line\": {\"color\": \"#E5ECF6\", \"width\": 0.5}}, \"type\": \"bar\"}], \"barpolar\": [{\"marker\": {\"line\": {\"color\": \"#E5ECF6\", \"width\": 0.5}}, \"type\": \"barpolar\"}], \"carpet\": [{\"aaxis\": {\"endlinecolor\": \"#2a3f5f\", \"gridcolor\": \"white\", \"linecolor\": \"white\", \"minorgridcolor\": \"white\", \"startlinecolor\": \"#2a3f5f\"}, \"baxis\": {\"endlinecolor\": \"#2a3f5f\", \"gridcolor\": \"white\", \"linecolor\": \"white\", \"minorgridcolor\": \"white\", \"startlinecolor\": \"#2a3f5f\"}, \"type\": \"carpet\"}], \"choropleth\": [{\"colorbar\": {\"outlinewidth\": 0, \"ticks\": \"\"}, \"type\": \"choropleth\"}], \"contour\": [{\"colorbar\": {\"outlinewidth\": 0, \"ticks\": \"\"}, \"colorscale\": [[0.0, \"#0d0887\"], [0.1111111111111111, \"#46039f\"], [0.2222222222222222, \"#7201a8\"], [0.3333333333333333, \"#9c179e\"], [0.4444444444444444, \"#bd3786\"], [0.5555555555555556, \"#d8576b\"], [0.6666666666666666, \"#ed7953\"], [0.7777777777777778, \"#fb9f3a\"], [0.8888888888888888, \"#fdca26\"], [1.0, \"#f0f921\"]], \"type\": \"contour\"}], \"contourcarpet\": [{\"colorbar\": {\"outlinewidth\": 0, \"ticks\": \"\"}, \"type\": \"contourcarpet\"}], \"heatmap\": [{\"colorbar\": {\"outlinewidth\": 0, \"ticks\": \"\"}, \"colorscale\": [[0.0, \"#0d0887\"], [0.1111111111111111, \"#46039f\"], [0.2222222222222222, \"#7201a8\"], [0.3333333333333333, \"#9c179e\"], [0.4444444444444444, \"#bd3786\"], [0.5555555555555556, \"#d8576b\"], [0.6666666666666666, \"#ed7953\"], [0.7777777777777778, \"#fb9f3a\"], [0.8888888888888888, \"#fdca26\"], [1.0, \"#f0f921\"]], \"type\": \"heatmap\"}], \"heatmapgl\": [{\"colorbar\": {\"outlinewidth\": 0, \"ticks\": \"\"}, \"colorscale\": [[0.0, \"#0d0887\"], [0.1111111111111111, \"#46039f\"], [0.2222222222222222, \"#7201a8\"], [0.3333333333333333, \"#9c179e\"], [0.4444444444444444, \"#bd3786\"], [0.5555555555555556, \"#d8576b\"], [0.6666666666666666, \"#ed7953\"], [0.7777777777777778, \"#fb9f3a\"], [0.8888888888888888, \"#fdca26\"], [1.0, \"#f0f921\"]], \"type\": \"heatmapgl\"}], \"histogram\": [{\"marker\": {\"colorbar\": {\"outlinewidth\": 0, \"ticks\": \"\"}}, \"type\": \"histogram\"}], \"histogram2d\": [{\"colorbar\": {\"outlinewidth\": 0, \"ticks\": \"\"}, \"colorscale\": [[0.0, \"#0d0887\"], [0.1111111111111111, \"#46039f\"], [0.2222222222222222, \"#7201a8\"], [0.3333333333333333, \"#9c179e\"], [0.4444444444444444, \"#bd3786\"], [0.5555555555555556, \"#d8576b\"], [0.6666666666666666, \"#ed7953\"], [0.7777777777777778, \"#fb9f3a\"], [0.8888888888888888, \"#fdca26\"], [1.0, \"#f0f921\"]], \"type\": \"histogram2d\"}], \"histogram2dcontour\": [{\"colorbar\": {\"outlinewidth\": 0, \"ticks\": \"\"}, \"colorscale\": [[0.0, \"#0d0887\"], [0.1111111111111111, \"#46039f\"], [0.2222222222222222, \"#7201a8\"], [0.3333333333333333, \"#9c179e\"], [0.4444444444444444, \"#bd3786\"], [0.5555555555555556, \"#d8576b\"], [0.6666666666666666, \"#ed7953\"], [0.7777777777777778, \"#fb9f3a\"], [0.8888888888888888, \"#fdca26\"], [1.0, \"#f0f921\"]], \"type\": \"histogram2dcontour\"}], \"mesh3d\": [{\"colorbar\": {\"outlinewidth\": 0, \"ticks\": \"\"}, \"type\": \"mesh3d\"}], \"parcoords\": [{\"line\": {\"colorbar\": {\"outlinewidth\": 0, \"ticks\": \"\"}}, \"type\": \"parcoords\"}], \"pie\": [{\"automargin\": true, \"type\": \"pie\"}], \"scatter\": [{\"marker\": {\"colorbar\": {\"outlinewidth\": 0, \"ticks\": \"\"}}, \"type\": \"scatter\"}], \"scatter3d\": [{\"line\": {\"colorbar\": {\"outlinewidth\": 0, \"ticks\": \"\"}}, \"marker\": {\"colorbar\": {\"outlinewidth\": 0, \"ticks\": \"\"}}, \"type\": \"scatter3d\"}], \"scattercarpet\": [{\"marker\": {\"colorbar\": {\"outlinewidth\": 0, \"ticks\": \"\"}}, \"type\": \"scattercarpet\"}], \"scattergeo\": [{\"marker\": {\"colorbar\": {\"outlinewidth\": 0, \"ticks\": \"\"}}, \"type\": \"scattergeo\"}], \"scattergl\": [{\"marker\": {\"colorbar\": {\"outlinewidth\": 0, \"ticks\": \"\"}}, \"type\": \"scattergl\"}], \"scattermapbox\": [{\"marker\": {\"colorbar\": {\"outlinewidth\": 0, \"ticks\": \"\"}}, \"type\": \"scattermapbox\"}], \"scatterpolar\": [{\"marker\": {\"colorbar\": {\"outlinewidth\": 0, \"ticks\": \"\"}}, \"type\": \"scatterpolar\"}], \"scatterpolargl\": [{\"marker\": {\"colorbar\": {\"outlinewidth\": 0, \"ticks\": \"\"}}, \"type\": \"scatterpolargl\"}], \"scatterternary\": [{\"marker\": {\"colorbar\": {\"outlinewidth\": 0, \"ticks\": \"\"}}, \"type\": \"scatterternary\"}], \"surface\": [{\"colorbar\": {\"outlinewidth\": 0, \"ticks\": \"\"}, \"colorscale\": [[0.0, \"#0d0887\"], [0.1111111111111111, \"#46039f\"], [0.2222222222222222, \"#7201a8\"], [0.3333333333333333, \"#9c179e\"], [0.4444444444444444, \"#bd3786\"], [0.5555555555555556, \"#d8576b\"], [0.6666666666666666, \"#ed7953\"], [0.7777777777777778, \"#fb9f3a\"], [0.8888888888888888, \"#fdca26\"], [1.0, \"#f0f921\"]], \"type\": \"surface\"}], \"table\": [{\"cells\": {\"fill\": {\"color\": \"#EBF0F8\"}, \"line\": {\"color\": \"white\"}}, \"header\": {\"fill\": {\"color\": \"#C8D4E3\"}, \"line\": {\"color\": \"white\"}}, \"type\": \"table\"}]}, \"layout\": {\"annotationdefaults\": {\"arrowcolor\": \"#2a3f5f\", \"arrowhead\": 0, \"arrowwidth\": 1}, \"coloraxis\": {\"colorbar\": {\"outlinewidth\": 0, \"ticks\": \"\"}}, \"colorscale\": {\"diverging\": [[0, \"#8e0152\"], [0.1, \"#c51b7d\"], [0.2, \"#de77ae\"], [0.3, \"#f1b6da\"], [0.4, \"#fde0ef\"], [0.5, \"#f7f7f7\"], [0.6, \"#e6f5d0\"], [0.7, \"#b8e186\"], [0.8, \"#7fbc41\"], [0.9, \"#4d9221\"], [1, \"#276419\"]], \"sequential\": [[0.0, \"#0d0887\"], [0.1111111111111111, \"#46039f\"], [0.2222222222222222, \"#7201a8\"], [0.3333333333333333, \"#9c179e\"], [0.4444444444444444, \"#bd3786\"], [0.5555555555555556, \"#d8576b\"], [0.6666666666666666, \"#ed7953\"], [0.7777777777777778, \"#fb9f3a\"], [0.8888888888888888, \"#fdca26\"], [1.0, \"#f0f921\"]], \"sequentialminus\": [[0.0, \"#0d0887\"], [0.1111111111111111, \"#46039f\"], [0.2222222222222222, \"#7201a8\"], [0.3333333333333333, \"#9c179e\"], [0.4444444444444444, \"#bd3786\"], [0.5555555555555556, \"#d8576b\"], [0.6666666666666666, \"#ed7953\"], [0.7777777777777778, \"#fb9f3a\"], [0.8888888888888888, \"#fdca26\"], [1.0, \"#f0f921\"]]}, \"colorway\": [\"#636efa\", \"#EF553B\", \"#00cc96\", \"#ab63fa\", \"#FFA15A\", \"#19d3f3\", \"#FF6692\", \"#B6E880\", \"#FF97FF\", \"#FECB52\"], \"font\": {\"color\": \"#2a3f5f\"}, \"geo\": {\"bgcolor\": \"white\", \"lakecolor\": \"white\", \"landcolor\": \"#E5ECF6\", \"showlakes\": true, \"showland\": true, \"subunitcolor\": \"white\"}, \"hoverlabel\": {\"align\": \"left\"}, \"hovermode\": \"closest\", \"mapbox\": {\"style\": \"light\"}, \"paper_bgcolor\": \"white\", \"plot_bgcolor\": \"#E5ECF6\", \"polar\": {\"angularaxis\": {\"gridcolor\": \"white\", \"linecolor\": \"white\", \"ticks\": \"\"}, \"bgcolor\": \"#E5ECF6\", \"radialaxis\": {\"gridcolor\": \"white\", \"linecolor\": \"white\", \"ticks\": \"\"}}, \"scene\": {\"xaxis\": {\"backgroundcolor\": \"#E5ECF6\", \"gridcolor\": \"white\", \"gridwidth\": 2, \"linecolor\": \"white\", \"showbackground\": true, \"ticks\": \"\", \"zerolinecolor\": \"white\"}, \"yaxis\": {\"backgroundcolor\": \"#E5ECF6\", \"gridcolor\": \"white\", \"gridwidth\": 2, \"linecolor\": \"white\", \"showbackground\": true, \"ticks\": \"\", \"zerolinecolor\": \"white\"}, \"zaxis\": {\"backgroundcolor\": \"#E5ECF6\", \"gridcolor\": \"white\", \"gridwidth\": 2, \"linecolor\": \"white\", \"showbackground\": true, \"ticks\": \"\", \"zerolinecolor\": \"white\"}}, \"shapedefaults\": {\"line\": {\"color\": \"#2a3f5f\"}}, \"ternary\": {\"aaxis\": {\"gridcolor\": \"white\", \"linecolor\": \"white\", \"ticks\": \"\"}, \"baxis\": {\"gridcolor\": \"white\", \"linecolor\": \"white\", \"ticks\": \"\"}, \"bgcolor\": \"#E5ECF6\", \"caxis\": {\"gridcolor\": \"white\", \"linecolor\": \"white\", \"ticks\": \"\"}}, \"title\": {\"x\": 0.05}, \"xaxis\": {\"automargin\": true, \"gridcolor\": \"white\", \"linecolor\": \"white\", \"ticks\": \"\", \"title\": {\"standoff\": 15}, \"zerolinecolor\": \"white\", \"zerolinewidth\": 2}, \"yaxis\": {\"automargin\": true, \"gridcolor\": \"white\", \"linecolor\": \"white\", \"ticks\": \"\", \"title\": {\"standoff\": 15}, \"zerolinecolor\": \"white\", \"zerolinewidth\": 2}}}, \"ternary\": {\"aaxis\": {\"title\": {\"text\": \"Victorias\"}}, \"baxis\": {\"title\": {\"text\": \"Empates\"}}, \"caxis\": {\"title\": {\"text\": \"Derrotas\"}}, \"domain\": {\"x\": [0.0, 1.0], \"y\": [0.0, 1.0]}}},\n",
       "                        {\"responsive\": true}\n",
       "                    ).then(function(){\n",
       "                            \n",
       "var gd = document.getElementById('6662fc30-dc2e-4217-b0dc-eb47e2d196ce');\n",
       "var x = new MutationObserver(function (mutations, observer) {{\n",
       "        var display = window.getComputedStyle(gd).display;\n",
       "        if (!display || display === 'none') {{\n",
       "            console.log([gd, 'removed!']);\n",
       "            Plotly.purge(gd);\n",
       "            observer.disconnect();\n",
       "        }}\n",
       "}});\n",
       "\n",
       "// Listen for the removal of the full notebook cells\n",
       "var notebookContainer = gd.closest('#notebook-container');\n",
       "if (notebookContainer) {{\n",
       "    x.observe(notebookContainer, {childList: true});\n",
       "}}\n",
       "\n",
       "// Listen for the clearing of the current output cell\n",
       "var outputEl = gd.closest('.output');\n",
       "if (outputEl) {{\n",
       "    x.observe(outputEl, {childList: true});\n",
       "}}\n",
       "\n",
       "                        })\n",
       "                };\n",
       "                });\n",
       "            </script>\n",
       "        </div>"
      ]
     },
     "metadata": {},
     "output_type": "display_data"
    },
    {
     "data": {
      "text/html": [
       "<div>\n",
       "        \n",
       "        \n",
       "            <div id=\"041bd587-bc21-46c6-a19f-36361bc7b2cc\" class=\"plotly-graph-div\" style=\"height:525px; width:100%;\"></div>\n",
       "            <script type=\"text/javascript\">\n",
       "                require([\"plotly\"], function(Plotly) {\n",
       "                    window.PLOTLYENV=window.PLOTLYENV || {};\n",
       "                    \n",
       "                if (document.getElementById(\"041bd587-bc21-46c6-a19f-36361bc7b2cc\")) {\n",
       "                    Plotly.newPlot(\n",
       "                        '041bd587-bc21-46c6-a19f-36361bc7b2cc',\n",
       "                        [{\"a\": [0.45098039215686275, 0.48333333333333334, 0.5811965811965812, 0.7175572519083969, 0.5877862595419847, 0.6040268456375839, 0.63, 0.43956043956043955, 0.5963855421686747, 0.5649717514124294, 0.5855855855855856, 0.4948453608247423, 0.6223776223776224, 0.5408163265306123, 0.5726495726495726, 0.48, 0.7172413793103448, 0.5, 0.6558441558441559, 0.5133928571428571, 0.6086956521739131, 0.5, 0.575, 0.5934959349593496, 0.6923076923076923, 0.5247524752475248, 0.5238095238095238, 0.49635036496350365, 0.6376811594202898, 0.5179856115107914, 0.5, 0.48333333333333334], \"b\": [0.28104575163398693, 0.20833333333333334, 0.24786324786324787, 0.15267175572519084, 0.24427480916030533, 0.24161073825503357, 0.135, 0.1978021978021978, 0.26506024096385544, 0.1751412429378531, 0.22522522522522523, 0.23711340206185566, 0.23776223776223776, 0.21428571428571427, 0.23931623931623933, 0.272, 0.1793103448275862, 0.2777777777777778, 0.19480519480519481, 0.26785714285714285, 0.17391304347826086, 0.27906976744186046, 0.24166666666666667, 0.25203252032520324, 0.2, 0.27722772277227725, 0.2571428571428571, 0.2773722627737226, 0.2246376811594203, 0.2446043165467626, 0.2905405405405405, 0.31666666666666665], \"c\": [0.2679738562091503, 0.30833333333333335, 0.17094017094017094, 0.1297709923664122, 0.16793893129770993, 0.15436241610738255, 0.235, 0.3626373626373626, 0.13855421686746988, 0.2598870056497175, 0.1891891891891892, 0.26804123711340205, 0.13986013986013987, 0.24489795918367346, 0.18803418803418803, 0.248, 0.10344827586206896, 0.2222222222222222, 0.14935064935064934, 0.21875, 0.21739130434782608, 0.22093023255813954, 0.18333333333333332, 0.15447154471544716, 0.1076923076923077, 0.19801980198019803, 0.21904761904761905, 0.22627737226277372, 0.13768115942028986, 0.23741007194244604, 0.20945945945945946, 0.2], \"hovertemplate\": \"Victorias=%{a}<br>Empates=%{b}<br>Derrotas=%{c}<extra></extra>\", \"legendgroup\": \"\", \"marker\": {\"color\": \"#636efa\", \"symbol\": \"circle\"}, \"mode\": \"markers\", \"name\": \"\", \"showlegend\": false, \"subplot\": \"ternary\", \"type\": \"scatterternary\"}],\n",
       "                        {\"annotations\": [{\"font\": {\"size\": 40}, \"text\": \"Neutral\", \"x\": 0.7, \"y\": 0.8}], \"legend\": {\"tracegroupgap\": 0}, \"margin\": {\"t\": 60}, \"template\": {\"data\": {\"bar\": [{\"error_x\": {\"color\": \"#2a3f5f\"}, \"error_y\": {\"color\": \"#2a3f5f\"}, \"marker\": {\"line\": {\"color\": \"#E5ECF6\", \"width\": 0.5}}, \"type\": \"bar\"}], \"barpolar\": [{\"marker\": {\"line\": {\"color\": \"#E5ECF6\", \"width\": 0.5}}, \"type\": \"barpolar\"}], \"carpet\": [{\"aaxis\": {\"endlinecolor\": \"#2a3f5f\", \"gridcolor\": \"white\", \"linecolor\": \"white\", \"minorgridcolor\": \"white\", \"startlinecolor\": \"#2a3f5f\"}, \"baxis\": {\"endlinecolor\": \"#2a3f5f\", \"gridcolor\": \"white\", \"linecolor\": \"white\", \"minorgridcolor\": \"white\", \"startlinecolor\": \"#2a3f5f\"}, \"type\": \"carpet\"}], \"choropleth\": [{\"colorbar\": {\"outlinewidth\": 0, \"ticks\": \"\"}, \"type\": \"choropleth\"}], \"contour\": [{\"colorbar\": {\"outlinewidth\": 0, \"ticks\": \"\"}, \"colorscale\": [[0.0, \"#0d0887\"], [0.1111111111111111, \"#46039f\"], [0.2222222222222222, \"#7201a8\"], [0.3333333333333333, \"#9c179e\"], [0.4444444444444444, \"#bd3786\"], [0.5555555555555556, \"#d8576b\"], [0.6666666666666666, \"#ed7953\"], [0.7777777777777778, \"#fb9f3a\"], [0.8888888888888888, \"#fdca26\"], [1.0, \"#f0f921\"]], \"type\": \"contour\"}], \"contourcarpet\": [{\"colorbar\": {\"outlinewidth\": 0, \"ticks\": \"\"}, \"type\": \"contourcarpet\"}], \"heatmap\": [{\"colorbar\": {\"outlinewidth\": 0, \"ticks\": \"\"}, \"colorscale\": [[0.0, \"#0d0887\"], [0.1111111111111111, \"#46039f\"], [0.2222222222222222, \"#7201a8\"], [0.3333333333333333, \"#9c179e\"], [0.4444444444444444, \"#bd3786\"], [0.5555555555555556, \"#d8576b\"], [0.6666666666666666, \"#ed7953\"], [0.7777777777777778, \"#fb9f3a\"], [0.8888888888888888, \"#fdca26\"], [1.0, \"#f0f921\"]], \"type\": \"heatmap\"}], \"heatmapgl\": [{\"colorbar\": {\"outlinewidth\": 0, \"ticks\": \"\"}, \"colorscale\": [[0.0, \"#0d0887\"], [0.1111111111111111, \"#46039f\"], [0.2222222222222222, \"#7201a8\"], [0.3333333333333333, \"#9c179e\"], [0.4444444444444444, \"#bd3786\"], [0.5555555555555556, \"#d8576b\"], [0.6666666666666666, \"#ed7953\"], [0.7777777777777778, \"#fb9f3a\"], [0.8888888888888888, \"#fdca26\"], [1.0, \"#f0f921\"]], \"type\": \"heatmapgl\"}], \"histogram\": [{\"marker\": {\"colorbar\": {\"outlinewidth\": 0, \"ticks\": \"\"}}, \"type\": \"histogram\"}], \"histogram2d\": [{\"colorbar\": {\"outlinewidth\": 0, \"ticks\": \"\"}, \"colorscale\": [[0.0, \"#0d0887\"], [0.1111111111111111, \"#46039f\"], [0.2222222222222222, \"#7201a8\"], [0.3333333333333333, \"#9c179e\"], [0.4444444444444444, \"#bd3786\"], [0.5555555555555556, \"#d8576b\"], [0.6666666666666666, \"#ed7953\"], [0.7777777777777778, \"#fb9f3a\"], [0.8888888888888888, \"#fdca26\"], [1.0, \"#f0f921\"]], \"type\": \"histogram2d\"}], \"histogram2dcontour\": [{\"colorbar\": {\"outlinewidth\": 0, \"ticks\": \"\"}, \"colorscale\": [[0.0, \"#0d0887\"], [0.1111111111111111, \"#46039f\"], [0.2222222222222222, \"#7201a8\"], [0.3333333333333333, \"#9c179e\"], [0.4444444444444444, \"#bd3786\"], [0.5555555555555556, \"#d8576b\"], [0.6666666666666666, \"#ed7953\"], [0.7777777777777778, \"#fb9f3a\"], [0.8888888888888888, \"#fdca26\"], [1.0, \"#f0f921\"]], \"type\": \"histogram2dcontour\"}], \"mesh3d\": [{\"colorbar\": {\"outlinewidth\": 0, \"ticks\": \"\"}, \"type\": \"mesh3d\"}], \"parcoords\": [{\"line\": {\"colorbar\": {\"outlinewidth\": 0, \"ticks\": \"\"}}, \"type\": \"parcoords\"}], \"pie\": [{\"automargin\": true, \"type\": \"pie\"}], \"scatter\": [{\"marker\": {\"colorbar\": {\"outlinewidth\": 0, \"ticks\": \"\"}}, \"type\": \"scatter\"}], \"scatter3d\": [{\"line\": {\"colorbar\": {\"outlinewidth\": 0, \"ticks\": \"\"}}, \"marker\": {\"colorbar\": {\"outlinewidth\": 0, \"ticks\": \"\"}}, \"type\": \"scatter3d\"}], \"scattercarpet\": [{\"marker\": {\"colorbar\": {\"outlinewidth\": 0, \"ticks\": \"\"}}, \"type\": \"scattercarpet\"}], \"scattergeo\": [{\"marker\": {\"colorbar\": {\"outlinewidth\": 0, \"ticks\": \"\"}}, \"type\": \"scattergeo\"}], \"scattergl\": [{\"marker\": {\"colorbar\": {\"outlinewidth\": 0, \"ticks\": \"\"}}, \"type\": \"scattergl\"}], \"scattermapbox\": [{\"marker\": {\"colorbar\": {\"outlinewidth\": 0, \"ticks\": \"\"}}, \"type\": \"scattermapbox\"}], \"scatterpolar\": [{\"marker\": {\"colorbar\": {\"outlinewidth\": 0, \"ticks\": \"\"}}, \"type\": \"scatterpolar\"}], \"scatterpolargl\": [{\"marker\": {\"colorbar\": {\"outlinewidth\": 0, \"ticks\": \"\"}}, \"type\": \"scatterpolargl\"}], \"scatterternary\": [{\"marker\": {\"colorbar\": {\"outlinewidth\": 0, \"ticks\": \"\"}}, \"type\": \"scatterternary\"}], \"surface\": [{\"colorbar\": {\"outlinewidth\": 0, \"ticks\": \"\"}, \"colorscale\": [[0.0, \"#0d0887\"], [0.1111111111111111, \"#46039f\"], [0.2222222222222222, \"#7201a8\"], [0.3333333333333333, \"#9c179e\"], [0.4444444444444444, \"#bd3786\"], [0.5555555555555556, \"#d8576b\"], [0.6666666666666666, \"#ed7953\"], [0.7777777777777778, \"#fb9f3a\"], [0.8888888888888888, \"#fdca26\"], [1.0, \"#f0f921\"]], \"type\": \"surface\"}], \"table\": [{\"cells\": {\"fill\": {\"color\": \"#EBF0F8\"}, \"line\": {\"color\": \"white\"}}, \"header\": {\"fill\": {\"color\": \"#C8D4E3\"}, \"line\": {\"color\": \"white\"}}, \"type\": \"table\"}]}, \"layout\": {\"annotationdefaults\": {\"arrowcolor\": \"#2a3f5f\", \"arrowhead\": 0, \"arrowwidth\": 1}, \"coloraxis\": {\"colorbar\": {\"outlinewidth\": 0, \"ticks\": \"\"}}, \"colorscale\": {\"diverging\": [[0, \"#8e0152\"], [0.1, \"#c51b7d\"], [0.2, \"#de77ae\"], [0.3, \"#f1b6da\"], [0.4, \"#fde0ef\"], [0.5, \"#f7f7f7\"], [0.6, \"#e6f5d0\"], [0.7, \"#b8e186\"], [0.8, \"#7fbc41\"], [0.9, \"#4d9221\"], [1, \"#276419\"]], \"sequential\": [[0.0, \"#0d0887\"], [0.1111111111111111, \"#46039f\"], [0.2222222222222222, \"#7201a8\"], [0.3333333333333333, \"#9c179e\"], [0.4444444444444444, \"#bd3786\"], [0.5555555555555556, \"#d8576b\"], [0.6666666666666666, \"#ed7953\"], [0.7777777777777778, \"#fb9f3a\"], [0.8888888888888888, \"#fdca26\"], [1.0, \"#f0f921\"]], \"sequentialminus\": [[0.0, \"#0d0887\"], [0.1111111111111111, \"#46039f\"], [0.2222222222222222, \"#7201a8\"], [0.3333333333333333, \"#9c179e\"], [0.4444444444444444, \"#bd3786\"], [0.5555555555555556, \"#d8576b\"], [0.6666666666666666, \"#ed7953\"], [0.7777777777777778, \"#fb9f3a\"], [0.8888888888888888, \"#fdca26\"], [1.0, \"#f0f921\"]]}, \"colorway\": [\"#636efa\", \"#EF553B\", \"#00cc96\", \"#ab63fa\", \"#FFA15A\", \"#19d3f3\", \"#FF6692\", \"#B6E880\", \"#FF97FF\", \"#FECB52\"], \"font\": {\"color\": \"#2a3f5f\"}, \"geo\": {\"bgcolor\": \"white\", \"lakecolor\": \"white\", \"landcolor\": \"#E5ECF6\", \"showlakes\": true, \"showland\": true, \"subunitcolor\": \"white\"}, \"hoverlabel\": {\"align\": \"left\"}, \"hovermode\": \"closest\", \"mapbox\": {\"style\": \"light\"}, \"paper_bgcolor\": \"white\", \"plot_bgcolor\": \"#E5ECF6\", \"polar\": {\"angularaxis\": {\"gridcolor\": \"white\", \"linecolor\": \"white\", \"ticks\": \"\"}, \"bgcolor\": \"#E5ECF6\", \"radialaxis\": {\"gridcolor\": \"white\", \"linecolor\": \"white\", \"ticks\": \"\"}}, \"scene\": {\"xaxis\": {\"backgroundcolor\": \"#E5ECF6\", \"gridcolor\": \"white\", \"gridwidth\": 2, \"linecolor\": \"white\", \"showbackground\": true, \"ticks\": \"\", \"zerolinecolor\": \"white\"}, \"yaxis\": {\"backgroundcolor\": \"#E5ECF6\", \"gridcolor\": \"white\", \"gridwidth\": 2, \"linecolor\": \"white\", \"showbackground\": true, \"ticks\": \"\", \"zerolinecolor\": \"white\"}, \"zaxis\": {\"backgroundcolor\": \"#E5ECF6\", \"gridcolor\": \"white\", \"gridwidth\": 2, \"linecolor\": \"white\", \"showbackground\": true, \"ticks\": \"\", \"zerolinecolor\": \"white\"}}, \"shapedefaults\": {\"line\": {\"color\": \"#2a3f5f\"}}, \"ternary\": {\"aaxis\": {\"gridcolor\": \"white\", \"linecolor\": \"white\", \"ticks\": \"\"}, \"baxis\": {\"gridcolor\": \"white\", \"linecolor\": \"white\", \"ticks\": \"\"}, \"bgcolor\": \"#E5ECF6\", \"caxis\": {\"gridcolor\": \"white\", \"linecolor\": \"white\", \"ticks\": \"\"}}, \"title\": {\"x\": 0.05}, \"xaxis\": {\"automargin\": true, \"gridcolor\": \"white\", \"linecolor\": \"white\", \"ticks\": \"\", \"title\": {\"standoff\": 15}, \"zerolinecolor\": \"white\", \"zerolinewidth\": 2}, \"yaxis\": {\"automargin\": true, \"gridcolor\": \"white\", \"linecolor\": \"white\", \"ticks\": \"\", \"title\": {\"standoff\": 15}, \"zerolinecolor\": \"white\", \"zerolinewidth\": 2}}}, \"ternary\": {\"aaxis\": {\"title\": {\"text\": \"Victorias\"}}, \"baxis\": {\"title\": {\"text\": \"Empates\"}}, \"caxis\": {\"title\": {\"text\": \"Derrotas\"}}, \"domain\": {\"x\": [0.0, 1.0], \"y\": [0.0, 1.0]}}},\n",
       "                        {\"responsive\": true}\n",
       "                    ).then(function(){\n",
       "                            \n",
       "var gd = document.getElementById('041bd587-bc21-46c6-a19f-36361bc7b2cc');\n",
       "var x = new MutationObserver(function (mutations, observer) {{\n",
       "        var display = window.getComputedStyle(gd).display;\n",
       "        if (!display || display === 'none') {{\n",
       "            console.log([gd, 'removed!']);\n",
       "            Plotly.purge(gd);\n",
       "            observer.disconnect();\n",
       "        }}\n",
       "}});\n",
       "\n",
       "// Listen for the removal of the full notebook cells\n",
       "var notebookContainer = gd.closest('#notebook-container');\n",
       "if (notebookContainer) {{\n",
       "    x.observe(notebookContainer, {childList: true});\n",
       "}}\n",
       "\n",
       "// Listen for the clearing of the current output cell\n",
       "var outputEl = gd.closest('.output');\n",
       "if (outputEl) {{\n",
       "    x.observe(outputEl, {childList: true});\n",
       "}}\n",
       "\n",
       "                        })\n",
       "                };\n",
       "                });\n",
       "            </script>\n",
       "        </div>"
      ]
     },
     "metadata": {},
     "output_type": "display_data"
    }
   ],
   "source": [
    "fig = scatter_ternary(matriz_local, a=\"Victorias\", b=\"Empates\", c=\"Derrotas\")\n",
    "fig.update_layout({\n",
    "    'ternary': {},\n",
    "    'annotations': [{\n",
    "      'text': 'De local',\n",
    "        'x': 0.7,\n",
    "        'y': 0.8,\n",
    "        'font': { 'size': 40 }\n",
    "    }]\n",
    "})\n",
    "fig.show()\n",
    "fig2 = scatter_ternary(matriz_neutral, a=\"Victorias\", b=\"Empates\", c=\"Derrotas\")\n",
    "fig2.update_layout({\n",
    "    'ternary': {},\n",
    "    'annotations': [{\n",
    "      'text': 'Neutral',\n",
    "        'x': 0.7,\n",
    "        'y': 0.8,\n",
    "        'font': { 'size': 40 }\n",
    "    }]\n",
    "})\n",
    "fig2.show()"
   ]
  },
  {
   "cell_type": "markdown",
   "metadata": {},
   "source": [
    "Se puede observar en el ternary plot de los partidos como local tienen mucha más probabilidad de ganar que los neutrales ya que todos los puntos tienen una tendencia a estar más cerca de la punta de victorias que en los partidos como neutral.\n",
    "\n",
    "Como vamos a hacer un analisis de los mundiales, los partidos van a ser en su gran mayoría neutrales, salvo para el país organizador del mundial."
   ]
  },
  {
   "cell_type": "markdown",
   "metadata": {},
   "source": [
    "# Modelado de datos"
   ]
  },
  {
   "cell_type": "code",
   "execution_count": 23,
   "metadata": {},
   "outputs": [],
   "source": [
    "resultados = resultados.dropna()"
   ]
  },
  {
   "cell_type": "markdown",
   "metadata": {},
   "source": [
    "Hacemos una función llamada partidos_anteriores que le de un peso a como salieron los partidos anteriores entre dos equipos. Esto va a ayudar a predecir partidos actuales"
   ]
  },
  {
   "cell_type": "code",
   "execution_count": 24,
   "metadata": {},
   "outputs": [],
   "source": [
    "def partidos_anteriores(pais1, pais2, resultados, m):\n",
    "    partidos_entre_ellos = resultados[((resultados['home_team'] == pais1) | (resultados['away_team'] == pais1)) &\n",
    "                                      ((resultados['home_team'] == pais2) | (resultados['away_team'] == pais2))]\n",
    "    \n",
    "    partidos_entre_ellos = partidos_entre_ellos.tail(3)\n",
    "    \n",
    "    if len(partidos_entre_ellos) == 3:\n",
    "        pais1_wins = len(partidos_entre_ellos[partidos_entre_ellos['ganador'] == pais1])\n",
    "        pais2_wins = len(partidos_entre_ellos[partidos_entre_ellos['ganador'] == pais2])\n",
    "        \n",
    "        if pais1_wins > pais2_wins:\n",
    "            return m\n",
    "        elif pais1_wins < pais2_wins:\n",
    "            return -m\n",
    "    \n",
    "    return 0"
   ]
  },
  {
   "cell_type": "markdown",
   "metadata": {},
   "source": [
    "Si en los últimos 3 partidos entre sí (si es que jugaron 3 partidos) uno de los dos equipos ganó más, va a recibir un extra para la predicción del partido\n",
    "\n",
    "Agregamos goles por partido como variable porque al pensar distintos modelos naive nos dimos cuenta que es una variable que predice relativamente bien"
   ]
  },
  {
   "cell_type": "code",
   "execution_count": 25,
   "metadata": {},
   "outputs": [],
   "source": [
    "def goles_pp(pais1, pais2, resultados, n, m):\n",
    "    goles_1_home = resultados.loc[resultados['home_team'] == pais1, 'home_score'].sum()\n",
    "    goles_1_away = resultados.loc[resultados['away_team'] == pais1, 'away_score'].sum()\n",
    "    partidos_1 = len(resultados[(resultados['home_team'] == pais1) | (resultados['away_team'] == pais1)])\n",
    "    goles_1 = (goles_1_home + goles_1_away) / partidos_1 if partidos_1 > 0 else 0\n",
    "    \n",
    "    goles_2_home = resultados.loc[resultados['home_team'] == pais2, 'home_score'].sum()\n",
    "    goles_2_away = resultados.loc[resultados['away_team'] == pais2, 'away_score'].sum()\n",
    "    partidos_2 = len(resultados[(resultados['home_team'] == pais2) | (resultados['away_team'] == pais2)])\n",
    "    goles_2 = (goles_2_home + goles_2_away) / partidos_2 if partidos_2 > 0 else 0\n",
    "\n",
    "    if abs(goles_1 - goles_2) < n:\n",
    "        return 0\n",
    "    elif goles_1 > goles_2:\n",
    "        return m\n",
    "    else:\n",
    "        return -m"
   ]
  },
  {
   "cell_type": "markdown",
   "metadata": {},
   "source": [
    "Hicimos una predicción del partido con una función llamada result, que toma tambien las dos funciones anteriores"
   ]
  },
  {
   "cell_type": "code",
   "execution_count": 26,
   "metadata": {},
   "outputs": [],
   "source": [
    "def result(pais1, pais2, resultados, ranking, n, j, p, m):\n",
    "    partido = pd.DataFrame(columns=[\"home_team\", \"away_team\", \"rank_home\", \"rank_away\"])\n",
    "    partido.loc[0] = [pais1, pais2, ranking.loc[ranking['country_full'] == pais1, 'rank'].iloc[-1],\n",
    "                        ranking.loc[ranking['country_full'] == pais2, 'rank'].iloc[-1]]\n",
    "    \n",
    "    coeficientes = LinearRegression()\n",
    "    X = resultados[resultados['home_team'] == pais1][['rank_home', 'rank_away']]\n",
    "    y = resultados[resultados['home_team'] == pais1]['dif_goles']\n",
    "    coeficientes.fit(X, y)\n",
    "    prediccion = coeficientes.predict(partido[['rank_home', 'rank_away']])\n",
    "\n",
    "    coeficientes = LinearRegression()\n",
    "    X = resultados[resultados['away_team'] == pais1][['rank_home', 'rank_away']]\n",
    "    y = resultados[resultados['away_team'] == pais1]['dif_goles']\n",
    "    coeficientes.fit(X, y)\n",
    "    prediccion = np.append(prediccion, -coeficientes.predict(partido[['rank_home', 'rank_away']]))\n",
    "\n",
    "    coeficientes = LinearRegression()\n",
    "    X = resultados[resultados['away_team'] == pais2][['rank_home', 'rank_away']]\n",
    "    y = resultados[resultados['away_team'] == pais2]['dif_goles']\n",
    "    coeficientes.fit(X, y)\n",
    "    prediccion = np.append(prediccion, coeficientes.predict(partido[['rank_home', 'rank_away']]))\n",
    "\n",
    "    coeficientes = LinearRegression()\n",
    "    X = resultados[resultados['home_team'] == pais2][['rank_home', 'rank_away']]\n",
    "    y = resultados[resultados['home_team'] == pais2]['dif_goles']\n",
    "    coeficientes.fit(X, y)\n",
    "    prediccion = np.append(prediccion, -coeficientes.predict(partido[['rank_home', 'rank_away']]))\n",
    "\n",
    "    prob_1 = np.mean(prediccion) + partidos_anteriores(pais1, pais2, resultados, j) + goles_pp(pais1, pais2, resultados, p, m)\n",
    "    if prob_1 < (-n):\n",
    "        return pais2\n",
    "    elif prob_1 > n:\n",
    "        return pais1\n",
    "    else:\n",
    "        return \"Empate\"\n"
   ]
  },
  {
   "cell_type": "markdown",
   "metadata": {},
   "source": [
    "¿Como se usa la función? Ejemplo:"
   ]
  },
  {
   "cell_type": "code",
   "execution_count": 27,
   "metadata": {},
   "outputs": [
    {
     "name": "stdout",
     "output_type": "stream",
     "text": [
      "Portugal\n"
     ]
    }
   ],
   "source": [
    "print(result(\"Portugal\", \"Uruguay\", resultados, ranking, n=0.15, j=0.4, p=0.2, m=0.1))"
   ]
  },
  {
   "cell_type": "markdown",
   "metadata": {},
   "source": [
    "Hacemos una función de cross validation"
   ]
  },
  {
   "cell_type": "code",
   "execution_count": 28,
   "metadata": {},
   "outputs": [],
   "source": [
    "def crossval(resultados, muestras, n=0.15, j=None, p=None, m=None):\n",
    "    test = int(0.2 * len(resultados))\n",
    "    prop_correcta = []\n",
    "    for _ in range(muestras):\n",
    "        filas = np.random.choice(resultados.index, test, replace=False)\n",
    "        df_pred = resultados.loc[filas].copy()\n",
    "        df_pred['prediccion'] = None\n",
    "        for i in range(len(df_pred)):\n",
    "            df_pred.at[df_pred.index[i], 'prediccion'] = result(df_pred.at[df_pred.index[i], 'home_team'],\n",
    "                                                                 df_pred.at[df_pred.index[i], 'away_team'],\n",
    "                                                                 resultados.drop(filas), ranking, n, j, p, m)\n",
    "        prop_correcta.append((df_pred['prediccion'] == df_pred['ganador']).mean())\n",
    "    return np.mean(prop_correcta)"
   ]
  },
  {
   "cell_type": "markdown",
   "metadata": {},
   "source": [
    "Hicimos cross validation para buscar el mejor n (numero que determina empates)"
   ]
  },
  {
   "cell_type": "code",
   "execution_count": 29,
   "metadata": {},
   "outputs": [
    {
     "name": "stdout",
     "output_type": "stream",
     "text": [
      "Con n = 0 es 0.5526552655265528\n",
      "Con n = 0.04 es 0.5498049804980498\n",
      "Con n = 0.08 es 0.551005100510051\n",
      "Con n = 0.12 es 0.5445544554455445\n",
      "Con n = 0.16 es 0.538103810381038\n"
     ]
    }
   ],
   "source": [
    "i = 0\n",
    "while i < 0.2:\n",
    "    print(\"Con n =\", i, \"es\", crossval(resultados, 3, n=i, j=0.4, p=0.1, m=0.4))\n",
    "    i += 0.04"
   ]
  },
  {
   "cell_type": "markdown",
   "metadata": {},
   "source": [
    "Terminamos eligiendo 0.15 para que algunos partidos den empate a pesar de que no da el mejor valor de predicción al hacer cross validation. Nos dimos cuenta que el empate es el resultado más dificil de predecir y por ello nunca tiene la máxima probabilidad en los modelos (tanto en apuestas como modelos como 301060)\n",
    "\n",
    "Vimos la precision de nuestro modelo con cross validation y buscamos las mejores variables para poner en las funciones de forma tal que la predicción sea lo mejor posible"
   ]
  },
  {
   "cell_type": "code",
   "execution_count": 30,
   "metadata": {},
   "outputs": [
    {
     "name": "stdout",
     "output_type": "stream",
     "text": [
      "Con j = 0.2 es 0.5398739873987399\n",
      "Con j = 0.30000000000000004 es 0.5373537353735374\n",
      "Con j = 0.4 es 0.5374437443744374\n",
      "Con j = 0.5 es 0.54005400540054\n"
     ]
    }
   ],
   "source": [
    "j = 0.2\n",
    "while j <= 0.5:\n",
    "    print(\"Con j =\", j, \"es\", crossval(resultados, 5, n=0.15, j=j, p=0.3, m=0.4))\n",
    "    j += 0.1"
   ]
  },
  {
   "cell_type": "code",
   "execution_count": 31,
   "metadata": {},
   "outputs": [
    {
     "name": "stdout",
     "output_type": "stream",
     "text": [
      "Con p = 0.1 es 0.5429342934293429\n",
      "Con p = 0.2 es 0.5456345634563456\n",
      "Con p = 0.30000000000000004 es 0.5342934293429343\n",
      "Con p = 0.4 es 0.5344734473447346\n"
     ]
    }
   ],
   "source": [
    "p = 0.1\n",
    "while p <= 0.4:\n",
    "    print(\"Con p =\", p, \"es\", crossval(resultados, 5, n=0.15, j=0.4, p=p, m=0.4))\n",
    "    p += 0.1"
   ]
  },
  {
   "cell_type": "markdown",
   "metadata": {},
   "source": [
    "Con esto concluimos que aproximadamente los mejores valores para la función result son: j=0.4 (el peso que se le agrega por los últimos 3 partidos), p=0.2 (el valor usado en goles por partido para determinar empate) y m=0.4 (el peso que se le agrega por promedio de goles). Estos pueden variar en cada corrida del código pero si buscábamos el óptimo iterando entre todos los valores teníamos que hacer muchísimos mas cross validations, además que estaría bueno hacer más iteraciones.\n",
    "\n",
    "Entonces hacemos un cross validation en el que no tomamos sample de test, sino que intentamos predecir los partidos más recientes"
   ]
  },
  {
   "cell_type": "code",
   "execution_count": 32,
   "metadata": {},
   "outputs": [],
   "source": [
    "def crossval_reciente(resultados, ranking, n=0.15, j=None, p=None, m=None):\n",
    "    prop_correcta = []\n",
    "    num_recent_matches = 500\n",
    "    \n",
    "    start_index = max(len(resultados) - num_recent_matches, 0)\n",
    "    end_index = len(resultados)\n",
    "    \n",
    "    df_pred = resultados.iloc[start_index:end_index].copy()\n",
    "    df_pred['prediccion'] = None\n",
    "    \n",
    "    for i in range(len(df_pred)):\n",
    "        pais1 = df_pred['home_team'].iloc[i]\n",
    "        pais2 = df_pred['away_team'].iloc[i]\n",
    "        df_pred['prediccion'].iloc[i] = result(pais1, pais2, resultados.drop(df_pred.index), ranking, n, j, p, m)\n",
    "    \n",
    "    prop_correcta = sum(df_pred['prediccion'] == df_pred['ganador']) / len(df_pred)\n",
    "    return prop_correcta"
   ]
  },
  {
   "cell_type": "code",
   "execution_count": 33,
   "metadata": {},
   "outputs": [
    {
     "name": "stdout",
     "output_type": "stream",
     "text": [
      "Con valores igual a cero para las vairables el resultado del cross validation es:  0.45\n",
      "Con los valores buscados para las vairables el resultado del cross validation es:  0.532\n"
     ]
    }
   ],
   "source": [
    "import warnings\n",
    "\n",
    "warnings.filterwarnings(\"ignore\")\n",
    "\n",
    "prop_correcta = crossval_reciente(resultados, ranking, n=0.15, j=0, p=0, m=0)\n",
    "\n",
    "print(\"Con valores igual a cero para las vairables el resultado del cross validation es: \", prop_correcta)\n",
    "\n",
    "prop_correcta_varaibles = crossval_reciente(resultados, ranking, n=0.15, j=0.4, p=0.1, m=0.4)\n",
    "\n",
    "print(\"Con los valores buscados para las vairables el resultado del cross validation es: \", prop_correcta_varaibles)"
   ]
  },
  {
   "cell_type": "markdown",
   "metadata": {},
   "source": [
    "Si no tomáramos las variables extra la predicción sería bastante mala.\n",
    "\n",
    "Sin embargo, cuando predecimos los resultados del mundial nos pasa al revés: predice mejor sin esas variables extra. Obviamente los partidos del mundial son muy pocos para hacer un buen test del algoritmo, además que hay factores en un mundial que no son posibles de determinar con datasets."
   ]
  },
  {
   "cell_type": "code",
   "execution_count": 34,
   "metadata": {},
   "outputs": [
    {
     "name": "stdout",
     "output_type": "stream",
     "text": [
      "Hasta ahora la precisión de nuestro modelo es 0.40540540540540543\n"
     ]
    }
   ],
   "source": [
    "locales = [\"Qatar\", \"England\", \"Senegal\", \"United States\", \"Argentina\", \"Denmark\", \"Mexico\", \"France\", \"Morocco\", \"Germany\", \"Spain\", \"Belgium\", \"Switzerland\", \"Uruguay\", \"Portugal\", \"Brazil\", \"Wales\", \"Qatar\", \"Netherlands\", \"England\", \"Tunisia\", \"Poland\", \"France\", \"Japan\", \"Belgium\", \"Croatia\", \"Spain\", \"Serbia\", \"South Korea\", \"Brazil\", \"Uruguay\", \"Croatia\", \"Canada\", \"Japan\", \"Costa Rica\", \"South Korea\", \"Ghana\"]\n",
    "visitantes = [\"Ecuador\", \"Iran\", \"Netherlands\", \"Wales\", \"Saudi Arabia\", \"Tunisia\", \"Poland\", \"Australia\", \"Croatia\", \"Japan\", \"Costa Rica\", \"Canada\", \"Cameroon\", \"South Korea\", \"Ghana\", \"Serbia\", \"Iran\", \"Senegal\", \"Ecuador\", \"United States\", \"Australia\", \"Saudi Arabia\", \"Denmark\", \"Costa Rica\", \"Morocco\", \"Canada\", \"Germany\", \"Cameroon\", \"Ghana\", \"Switzerland\", \"Portugal\", \"Belgium\", \"Morocco\", \"Spain\", \"Germany\", \"Portugal\", \"Uruguay\"]\n",
    "resultado_real = [\"Ecuador\", \"England\", \"Netherlands\", \"Empate\", \"Saudi Arabia\", \"Empate\", \"Empate\", \"France\", \"Empate\", \"Japan\", \"Spain\", \"Belgium\", \"Switzerland\", \"Empate\", \"Portugal\", \"Brazil\", \"Iran\", \"Senegal\", \"Empate\", \"Empate\", \"Australia\", \"Poland\", \"France\", \"Costa Rica\", \"Morocco\", \"Croatia\", \"Empate\", \"Empate\", \"Ghana\", \"Brazil\", \"Portugal\", \"Empate\", \"Morocco\", \"Japan\", \"Germany\", \"South Korea\", \"Uruguay\"]\n",
    "\n",
    "partidos_jugados = pd.DataFrame(columns=[\"local\", \"visitante\", \"resultado\", \"prediccion\"])\n",
    "partidos_jugados[\"local\"] = locales\n",
    "partidos_jugados[\"visitante\"] = visitantes\n",
    "partidos_jugados[\"resultado\"] = resultado_real\n",
    "\n",
    "for i in range(len(locales)):\n",
    "    local = locales[i]\n",
    "    visitante = visitantes[i]\n",
    "    result_prediction = result(local, visitante, resultados, ranking, 0.15, 0.4, 0.2, 0.4)\n",
    "    partidos_jugados.at[i, \"prediccion\"] = result_prediction\n",
    "\n",
    "precision = np.mean(partidos_jugados[\"resultado\"] == partidos_jugados[\"prediccion\"])\n",
    "print(\"Hasta ahora la precisión de nuestro modelo es\", precision)\n"
   ]
  },
  {
   "cell_type": "code",
   "execution_count": 35,
   "metadata": {},
   "outputs": [
    {
     "name": "stdout",
     "output_type": "stream",
     "text": [
      "            local      visitante     resultado     prediccion\n",
      "0           Qatar        Ecuador       Ecuador        Ecuador\n",
      "1         England           Iran       England        England\n",
      "2         Senegal    Netherlands   Netherlands    Netherlands\n",
      "3   United States          Wales        Empate  United States\n",
      "4       Argentina   Saudi Arabia  Saudi Arabia      Argentina\n",
      "5         Denmark        Tunisia        Empate        Denmark\n",
      "6          Mexico         Poland        Empate         Mexico\n",
      "7          France      Australia        France         France\n",
      "8         Morocco        Croatia        Empate        Croatia\n",
      "9         Germany          Japan         Japan        Germany\n",
      "10          Spain     Costa Rica         Spain          Spain\n",
      "11        Belgium         Canada       Belgium        Belgium\n",
      "12    Switzerland       Cameroon   Switzerland    Switzerland\n",
      "13        Uruguay    South Korea        Empate    South Korea\n",
      "14       Portugal          Ghana      Portugal       Portugal\n",
      "15         Brazil         Serbia        Brazil         Brazil\n",
      "16          Wales           Iran          Iran         Empate\n",
      "17          Qatar        Senegal       Senegal         Empate\n",
      "18    Netherlands        Ecuador        Empate    Netherlands\n",
      "19        England  United States        Empate        England\n",
      "20        Tunisia      Australia     Australia         Empate\n",
      "21         Poland   Saudi Arabia        Poland         Empate\n",
      "22         France        Denmark        France        Denmark\n",
      "23          Japan     Costa Rica    Costa Rica          Japan\n",
      "24        Belgium        Morocco       Morocco        Belgium\n",
      "25        Croatia         Canada       Croatia        Croatia\n",
      "26          Spain        Germany        Empate          Spain\n",
      "27         Serbia       Cameroon        Empate         Empate\n",
      "28    South Korea          Ghana         Ghana    South Korea\n",
      "29         Brazil    Switzerland        Brazil         Brazil\n",
      "30        Uruguay       Portugal      Portugal       Portugal\n",
      "31        Croatia        Belgium        Empate        Belgium\n",
      "32         Canada        Morocco       Morocco        Morocco\n",
      "33          Japan          Spain         Japan          Spain\n",
      "34     Costa Rica        Germany       Germany        Germany\n",
      "35    South Korea       Portugal   South Korea       Portugal\n",
      "36          Ghana        Uruguay       Uruguay         Empate\n"
     ]
    }
   ],
   "source": [
    "print(partidos_jugados)"
   ]
  },
  {
   "cell_type": "markdown",
   "metadata": {},
   "source": [
    "Como nos dio mal vamos a generarnos las mejores variables mundial. Es decir, en lugar de usar las que usamos en cross validation, vamos a ver cuales son las variables óptimas para este mundial"
   ]
  },
  {
   "cell_type": "code",
   "execution_count": 36,
   "metadata": {},
   "outputs": [
    {
     "name": "stdout",
     "output_type": "stream",
     "text": [
      "La mejor predicción se hace con las variables [0.05, 0.30000000000000004, 0, 0.4] y es 0.5405405405405406\n"
     ]
    }
   ],
   "source": [
    "partidos_jugados = pd.DataFrame(columns=[\"local\", \"visitante\", \"resultado\", \"prediccion\"])\n",
    "partidos_jugados[\"local\"] = locales\n",
    "partidos_jugados[\"visitante\"] = visitantes\n",
    "partidos_jugados[\"resultado\"] = resultado_real\n",
    "\n",
    "best_accuracy = 0\n",
    "best_vars = [0, 0, 0, 0]\n",
    "\n",
    "i = 0\n",
    "while i < 0.25:\n",
    "    j = 0\n",
    "    while j < 0.6:\n",
    "        k = 0\n",
    "        while k < 0.35:\n",
    "            l = 0\n",
    "            while l < 0.6:\n",
    "                for idx, row in partidos_jugados.iterrows():\n",
    "                    partidos_jugados.at[idx, \"prediccion\"] = result(row[\"local\"], row[\"visitante\"], resultados, ranking, i, j, k, l)\n",
    "                \n",
    "                accuracy = np.mean(partidos_jugados[\"resultado\"] == partidos_jugados[\"prediccion\"])\n",
    "                if accuracy > best_accuracy:\n",
    "                    best_vars = [i, j, k, l]\n",
    "                    best_accuracy = accuracy\n",
    "                l += 0.1\n",
    "            k += 0.05\n",
    "        j += 0.1\n",
    "    i += 0.05\n",
    "\n",
    "print(\"La mejor predicción se hace con las variables\", best_vars, \"y es\", best_accuracy)\n"
   ]
  },
  {
   "cell_type": "markdown",
   "metadata": {},
   "source": [
    "Y después podemos usar esas variables para predecir partidos siguientes"
   ]
  },
  {
   "cell_type": "code",
   "execution_count": 37,
   "metadata": {},
   "outputs": [
    {
     "name": "stdout",
     "output_type": "stream",
     "text": [
      "Brazil\n"
     ]
    }
   ],
   "source": [
    "print(result(\"Brazil\", \"Switzerland\", resultados, ranking, best_vars[0], best_vars[1], best_vars[2], best_vars[3]))"
   ]
  },
  {
   "cell_type": "markdown",
   "metadata": {},
   "source": [
    "Hacemos un método naive en el que gana el que tiene mayor proporción de victorias por partido"
   ]
  },
  {
   "cell_type": "code",
   "execution_count": 38,
   "metadata": {},
   "outputs": [],
   "source": [
    "def naive(pais1, pais2, resultados, n):\n",
    "    prop_1 = len(resultados[resultados['ganador'] == pais1]) / len(resultados[(resultados['home_team'] == pais1) | (resultados['away_team'] == pais1)])\n",
    "    prop_2 = len(resultados[resultados['ganador'] == pais2]) / len(resultados[(resultados['home_team'] == pais2) | (resultados['away_team'] == pais2)])\n",
    "    \n",
    "    if abs(prop_1 - prop_2) < n:\n",
    "        return \"Empate\"\n",
    "    elif prop_1 > prop_2:\n",
    "        return pais1\n",
    "    else:\n",
    "        return pais2"
   ]
  },
  {
   "cell_type": "code",
   "execution_count": 39,
   "metadata": {},
   "outputs": [],
   "source": [
    "def crossval_naive(resultados, muestras, n):\n",
    "    test = int(0.2 * len(resultados['home_team']))\n",
    "    prop_correcta = []\n",
    "    \n",
    "    for _ in range(muestras):\n",
    "        filas = np.random.choice(resultados.index, test, replace=False)\n",
    "        df_pred = resultados.loc[filas].copy()\n",
    "        df_pred['prediccion'] = np.nan\n",
    "        \n",
    "        for i in range(len(df_pred)):\n",
    "            df_pred.loc[df_pred.index[i], 'prediccion'] = naive(df_pred.at[df_pred.index[i], 'home_team'], \n",
    "                                                                 df_pred.at[df_pred.index[i], 'away_team'], \n",
    "                                                                 resultados, n)\n",
    "        \n",
    "        prop_correcta.append(np.sum(df_pred['prediccion'] == df_pred['ganador']) / len(df_pred['prediccion']))\n",
    "    \n",
    "    return np.mean(prop_correcta)"
   ]
  },
  {
   "cell_type": "code",
   "execution_count": 40,
   "metadata": {},
   "outputs": [
    {
     "name": "stdout",
     "output_type": "stream",
     "text": [
      "0.49759975997599754\n"
     ]
    }
   ],
   "source": [
    "print(crossval_naive(resultados,3,0.1))"
   ]
  },
  {
   "cell_type": "markdown",
   "metadata": {},
   "source": [
    "Evidentemente es un poco peor que nuestro modelo.\n",
    "\n",
    "Pero si lo usamos para predecir los resultados del mundial le está yendo un poco mejor que al nuestro."
   ]
  },
  {
   "cell_type": "code",
   "execution_count": 41,
   "metadata": {},
   "outputs": [
    {
     "name": "stdout",
     "output_type": "stream",
     "text": [
      "Hasta ahora la precision del modelo naive es 0.5405405405405406\n"
     ]
    }
   ],
   "source": [
    "partidos_jugados = pd.DataFrame({'local': locales, 'visitante': visitantes, 'resultado': resultado_real})\n",
    "partidos_jugados['prediccion'] = [naive(local, visitante, resultados, 0.1) for local, visitante in zip(locales, visitantes)]\n",
    "\n",
    "precision = sum(partidos_jugados['resultado'] == partidos_jugados['prediccion']) / len(partidos_jugados)\n",
    "print(\"Hasta ahora la precision del modelo naive es\", precision)\n"
   ]
  },
  {
   "cell_type": "markdown",
   "metadata": {},
   "source": [
    "Esto se debe a la gran cantidad de empates que hubo en el mundial.\n",
    "\n",
    "Y ahora la parte más importante, vamos a predecir lo que queda del mundial con las “variables mundial”.\n",
    "\n",
    "Primero empezamos prediciendo los ultimos 4 partidos de grupos"
   ]
  },
  {
   "cell_type": "code",
   "execution_count": 42,
   "metadata": {},
   "outputs": [
    {
     "name": "stdout",
     "output_type": "stream",
     "text": [
      "Brazil\n"
     ]
    }
   ],
   "source": [
    "print(result(\"Brazil\", \"Cameroon\", resultados, ranking, best_vars[0], best_vars[1], best_vars[2], best_vars[3]))"
   ]
  },
  {
   "cell_type": "code",
   "execution_count": 43,
   "metadata": {},
   "outputs": [
    {
     "name": "stdout",
     "output_type": "stream",
     "text": [
      "Switzerland\n"
     ]
    }
   ],
   "source": [
    "print(result(\"Serbia\", \"Switzerland\", resultados, ranking, best_vars[0], best_vars[1], best_vars[2], best_vars[3]))"
   ]
  },
  {
   "cell_type": "markdown",
   "metadata": {},
   "source": [
    "Clasifican Suiza y Brasil. Armamos el cuadro de octavos. Para predecir a partir de esta ronda vamos a tomar la variable que determina empates como 0 ya que no se puede empatar."
   ]
  },
  {
   "cell_type": "code",
   "execution_count": 44,
   "metadata": {},
   "outputs": [
    {
     "name": "stdout",
     "output_type": "stream",
     "text": [
      "\n",
      "Tournament Progression:\n",
      "\n",
      "Round of 16:\n",
      "  Netherlands vs United States\n",
      "  Argentina vs Australia\n",
      "  Japan vs Croatia\n",
      "  Brazil vs South Korea\n",
      "  England vs Senegal\n",
      "  France vs Poland\n",
      "  Morocco vs Spain\n",
      "  Portugal vs Switzerland\n",
      "\n",
      "Quarterfinals:\n",
      "  Netherlands vs Argentina\n",
      "  Japan vs Brazil\n",
      "  England vs France\n",
      "  Spain vs Portugal\n",
      "\n",
      "Semifinals:\n",
      "  Netherlands vs Brazil\n",
      "  England vs Spain\n",
      "\n",
      "Final:\n",
      "  Netherlands vs Spain\n",
      "\n",
      "Champion:\n",
      "  Spain\n"
     ]
    }
   ],
   "source": [
    "rounds = {\n",
    "    'round_of_16': [\n",
    "        \"Netherlands\", \"United States\",\n",
    "        \"Argentina\", \"Australia\",\n",
    "        \"Japan\", \"Croatia\",\n",
    "        \"Brazil\", \"South Korea\",\n",
    "        \"England\", \"Senegal\",\n",
    "        \"France\", \"Poland\",\n",
    "        \"Morocco\", \"Spain\",\n",
    "        \"Portugal\", \"Switzerland\"\n",
    "    ],\n",
    "    'quarterfinals': [],\n",
    "    'semifinals': [],\n",
    "    'final': [],\n",
    "    'champion': []\n",
    "}\n",
    "\n",
    "def simulate_round(round_name, next_round_name):\n",
    "    num_matches = len(rounds[round_name]) // 2\n",
    "    for i in range(num_matches):\n",
    "        pais1 = rounds[round_name][2*i]\n",
    "        pais2 = rounds[round_name][2*i + 1]\n",
    "        winner = result(pais1, pais2, resultados, ranking, 0, best_vars[1], best_vars[2], best_vars[3])\n",
    "        if winner == \"Empate\":\n",
    "            winner = pais1 \n",
    "        rounds[next_round_name].append(winner)\n",
    "\n",
    "def print_rounds(rounds):\n",
    "    print(\"\\nTournament Progression:\")\n",
    "    champion = None\n",
    "    for round_name, countries in rounds.items():\n",
    "        print(f\"\\n{round_name.replace('_', ' ').capitalize()}:\")\n",
    "        for i in range(0, len(countries), 2):\n",
    "            if i + 1 < len(countries):\n",
    "                print(f\"  {countries[i]} vs {countries[i+1]}\")\n",
    "            else:\n",
    "                if round_name == 'final':\n",
    "                    champion = countries[i]\n",
    "                else:\n",
    "                    print(f\"  {countries[i]}\")\n",
    "    if champion:\n",
    "        print(f\"\\nChampion: {champion}\")\n",
    "\n",
    "simulate_round('round_of_16', 'quarterfinals')\n",
    "simulate_round('quarterfinals', 'semifinals')\n",
    "simulate_round('semifinals', 'final')\n",
    "simulate_round('final', 'champion')\n",
    "\n",
    "print_rounds(rounds)\n"
   ]
  },
  {
   "cell_type": "markdown",
   "metadata": {},
   "source": [
    "# Conclusión\n",
    "\n",
    "Nuestro modelo no está siendo muy efectivo en este mundial si comparamos con el cross validation de todos los resultados, pero al comparar con otros modelos (de Rusia 2018, el mundial previo), nos está dando un valor lógico. Creemos que cuantos más partidos se jueguen la precisión de nuestro modelo va a seguir subiendo hasta alcanzar valores similares al cross validation de partidos recientes. Por otro lado creemos que para predecir los partidos siguientes del mundial conviene utilizar las “variables mundial” ya que esas tienen en cuenta el desempeño en esta copa y es como actualizar siempre al partido más reciente. Con más tiempo creemos que es posible mejorar el modelo, agregando más variables para tener en cuenta, además de, por ejemplo, un dataset con jugadores. Esto último lo podemos afirmar ya que no es lo mismo si una selección tiene a sus mejores jugadores disponibles como no"
   ]
  }
 ],
 "metadata": {
  "kernelspec": {
   "display_name": "Python 3",
   "language": "python",
   "name": "python3"
  },
  "language_info": {
   "codemirror_mode": {
    "name": "ipython",
    "version": 3
   },
   "file_extension": ".py",
   "mimetype": "text/x-python",
   "name": "python",
   "nbconvert_exporter": "python",
   "pygments_lexer": "ipython3",
   "version": "3.8.8"
  }
 },
 "nbformat": 4,
 "nbformat_minor": 2
}
